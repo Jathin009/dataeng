{
  "cells": [
    {
      "cell_type": "markdown",
      "metadata": {
        "id": "view-in-github",
        "colab_type": "text"
      },
      "source": [
        "<a href=\"https://colab.research.google.com/github/Jathin009/dataeng_class/blob/main/REST_API.ipynb\" target=\"_parent\"><img src=\"https://colab.research.google.com/assets/colab-badge.svg\" alt=\"Open In Colab\"/></a>"
      ]
    },
    {
      "cell_type": "code",
      "execution_count": 1,
      "id": "6f5f4c09",
      "metadata": {
        "colab": {
          "base_uri": "https://localhost:8080/"
        },
        "id": "6f5f4c09",
        "outputId": "1bd286fc-0d38-4a6e-e981-8eb07bfeac2b"
      },
      "outputs": [
        {
          "output_type": "stream",
          "name": "stdout",
          "text": [
            "Requirement already satisfied: requests in /usr/local/lib/python3.10/dist-packages (2.31.0)\n",
            "Requirement already satisfied: charset-normalizer<4,>=2 in /usr/local/lib/python3.10/dist-packages (from requests) (3.3.2)\n",
            "Requirement already satisfied: idna<4,>=2.5 in /usr/local/lib/python3.10/dist-packages (from requests) (3.6)\n",
            "Requirement already satisfied: urllib3<3,>=1.21.1 in /usr/local/lib/python3.10/dist-packages (from requests) (2.0.7)\n",
            "Requirement already satisfied: certifi>=2017.4.17 in /usr/local/lib/python3.10/dist-packages (from requests) (2024.2.2)\n"
          ]
        }
      ],
      "source": [
        "pip install requests"
      ]
    },
    {
      "cell_type": "code",
      "execution_count": 2,
      "id": "1665db74",
      "metadata": {
        "colab": {
          "base_uri": "https://localhost:8080/"
        },
        "id": "1665db74",
        "outputId": "2fd1f621-92a9-4998-b3b2-315d3598e8fa"
      },
      "outputs": [
        {
          "output_type": "stream",
          "name": "stdout",
          "text": [
            "Enter City Name Portland\n",
            "Checking if it is raining in Portland now?\n",
            "It is not Raining in Portland\n",
            "Weather Forecast in Portland Today: clear sky\n",
            "Checking will it be raining when our next class meets i.e., on 2024-04-15 03:39:46.727992?\n",
            "It will not be Raining in Portland\n",
            "Weather Forecast in Portland on 2024-04-15: few clouds\n"
          ]
        }
      ],
      "source": [
        "import requests, json\n",
        "from datetime import datetime, timedelta\n",
        "API_KEY= \"dc256c1e18da87d696a031dd297ac3d1\"\n",
        "base_url = \"https://api.openweathermap.org/data/2.5/weather?\"\n",
        "API_KEY_FORECAST = \"bd5e378503939ddaee76f12ad7a97608\"\n",
        "city_name = input(\"Enter City Name \")\n",
        "\n",
        "complete_url = base_url + \"appid=\" + API_KEY + \"&q=\" + city_name\n",
        "\n",
        "response = requests.get(complete_url)\n",
        "\n",
        "x = response.json()\n",
        "if x[\"cod\"] != \"404\":\n",
        "    print(f'Checking if it is raining in {city_name} now?')\n",
        "    if x[\"weather\"][0][\"id\"] >= 500 and x[\"weather\"][0][\"id\"] <= 599:\n",
        "        print(f'It is Raining in {city_name}')\n",
        "    else:\n",
        "        print(f'It is not Raining in {city_name}')\n",
        "    print(f'Weather Forecast in Portland Today: {x[\"weather\"][0][\"description\"]}')\n",
        "    lat = x[\"coord\"][\"lat\"]\n",
        "    lon = x[\"coord\"][\"lon\"]\n",
        "    today = datetime.today()\n",
        "    current_time = datetime.now().timestamp()\n",
        "    day_of_week = today.weekday()\n",
        "    if day_of_week < 2 and day_of_week >= 0:\n",
        "        if day_of_week == 0:\n",
        "            days_added = day_of_week + 2\n",
        "        else:\n",
        "            days_added = day_of_week + 1\n",
        "    else:\n",
        "        days_added = 6 - day_of_week + 1\n",
        "    current_timestamp = datetime.now().timestamp()\n",
        "    current_datetime = datetime.fromtimestamp(current_timestamp)\n",
        "    forecasted_day = current_datetime + timedelta(days=days_added)\n",
        "    forecast_url = f\"https://api.openweathermap.org/data/2.5/forecast?lat=45.5234&lon=-122.6762&appid=bd5e378503939ddaee76f12ad7a97608\"\n",
        "    forecast_response = requests.get(forecast_url)\n",
        "    forecast_data = forecast_response.json()\n",
        "    forecasts_on_target = [f for f in forecast_data['list'] if datetime.fromtimestamp(f['dt']).date() == forecasted_day.date()]\n",
        "    print(f'Checking will it be raining when our next class meets i.e., on {forecasted_day}?')\n",
        "    if forecasts_on_target[0][\"weather\"][0][\"id\"] >= 500 and forecasts_on_target[0][\"weather\"][0][\"id\"] <= 599:\n",
        "        print(f'It will be raining in {city_name}')\n",
        "    else:\n",
        "        print(f'It will not be Raining in {city_name}')\n",
        "    print(f'Weather Forecast in Portland on {forecasted_day.date()}: {forecasts_on_target[0][\"weather\"][0][\"description\"]}')\n",
        "else:\n",
        "    print(\"Enter Valid City Name \")"
      ]
    },
    {
      "cell_type": "code",
      "execution_count": null,
      "id": "1eef5a33",
      "metadata": {
        "id": "1eef5a33"
      },
      "outputs": [],
      "source": []
    },
    {
      "cell_type": "code",
      "execution_count": null,
      "id": "9ee27f66",
      "metadata": {
        "id": "9ee27f66"
      },
      "outputs": [],
      "source": []
    }
  ],
  "metadata": {
    "kernelspec": {
      "display_name": "Python 3 (ipykernel)",
      "language": "python",
      "name": "python3"
    },
    "language_info": {
      "codemirror_mode": {
        "name": "ipython",
        "version": 3
      },
      "file_extension": ".py",
      "mimetype": "text/x-python",
      "name": "python",
      "nbconvert_exporter": "python",
      "pygments_lexer": "ipython3",
      "version": "3.10.9"
    },
    "colab": {
      "provenance": [],
      "include_colab_link": true
    }
  },
  "nbformat": 4,
  "nbformat_minor": 5
}