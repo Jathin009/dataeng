{
  "cells": [
    {
      "cell_type": "code",
      "execution_count": 3,
      "id": "bf82d5b3",
      "metadata": {
        "colab": {
          "base_uri": "https://localhost:8080/"
        },
        "id": "bf82d5b3",
        "outputId": "6e898bcc-c96a-423c-c332-1cbd8a09b786"
      },
      "outputs": [
        {
          "output_type": "stream",
          "name": "stdout",
          "text": [
            "Requirement already satisfied: pandas in /usr/local/lib/python3.10/dist-packages (2.0.3)\n",
            "Requirement already satisfied: matplotlib in /usr/local/lib/python3.10/dist-packages (3.7.1)\n",
            "Requirement already satisfied: python-dateutil>=2.8.2 in /usr/local/lib/python3.10/dist-packages (from pandas) (2.8.2)\n",
            "Requirement already satisfied: pytz>=2020.1 in /usr/local/lib/python3.10/dist-packages (from pandas) (2023.4)\n",
            "Requirement already satisfied: tzdata>=2022.1 in /usr/local/lib/python3.10/dist-packages (from pandas) (2024.1)\n",
            "Requirement already satisfied: numpy>=1.21.0 in /usr/local/lib/python3.10/dist-packages (from pandas) (1.25.2)\n",
            "Requirement already satisfied: contourpy>=1.0.1 in /usr/local/lib/python3.10/dist-packages (from matplotlib) (1.2.1)\n",
            "Requirement already satisfied: cycler>=0.10 in /usr/local/lib/python3.10/dist-packages (from matplotlib) (0.12.1)\n",
            "Requirement already satisfied: fonttools>=4.22.0 in /usr/local/lib/python3.10/dist-packages (from matplotlib) (4.51.0)\n",
            "Requirement already satisfied: kiwisolver>=1.0.1 in /usr/local/lib/python3.10/dist-packages (from matplotlib) (1.4.5)\n",
            "Requirement already satisfied: packaging>=20.0 in /usr/local/lib/python3.10/dist-packages (from matplotlib) (24.0)\n",
            "Requirement already satisfied: pillow>=6.2.0 in /usr/local/lib/python3.10/dist-packages (from matplotlib) (9.4.0)\n",
            "Requirement already satisfied: pyparsing>=2.3.1 in /usr/local/lib/python3.10/dist-packages (from matplotlib) (3.1.2)\n",
            "Requirement already satisfied: six>=1.5 in /usr/local/lib/python3.10/dist-packages (from python-dateutil>=2.8.2->pandas) (1.16.0)\n"
          ]
        }
      ],
      "source": [
        "pip install pandas matplotlib"
      ]
    },
    {
      "cell_type": "code",
      "execution_count": 4,
      "id": "a762470e",
      "metadata": {
        "colab": {
          "base_uri": "https://localhost:8080/"
        },
        "id": "a762470e",
        "outputId": "785ceb4f-b09a-4bb5-d395-dafd7e64f5db"
      },
      "outputs": [
        {
          "output_type": "stream",
          "name": "stdout",
          "text": [
            "Assertion 1: All crash records have location information.\n",
            "Assertion 2: All crash records have a valid highway number.\n"
          ]
        }
      ],
      "source": [
        "# Existence assertions\n",
        "# # Every crash record occurred in a particular location.\n",
        "# # Each crash record must have a highway number.\n",
        "import pandas as pd\n",
        "\n",
        "# Fetch the CSV file\n",
        "file_path = \"/content/HwyCrashes.csv\"\n",
        "data = pd.read_csv(file_path)\n",
        "\n",
        "# Filter records with Record Type == 1 for every Crash ID\n",
        "data = data[data['Record Type'] == 1]\n",
        "\n",
        "# # Assertion 1: Every crash record occurred in a particular location\n",
        "# # Check for missing values in Latitude and Longitude columns\n",
        "missing_location = data[['Latitude Degrees', 'Longitude Degrees']].isnull().any(axis=1).sum()\n",
        "if missing_location == 0:\n",
        "    print(\"Assertion 1: All crash records have location information.\")\n",
        "else:\n",
        "    print(f\"Assertion 1 violated: {missing_location} records do not have location information.\")\n",
        "\n",
        "# # Assertion 2: Each crash record must have a highway number\n",
        "# # Check for missing or invalid values in Highway Number column\n",
        "missing_highway = data['Highway Number'].isnull().sum()\n",
        "invalid_highway = data['Highway Number'].isin(['', 0]).sum()\n",
        "if missing_highway == 0 and invalid_highway == 0:\n",
        "    print(\"Assertion 2: All crash records have a valid highway number.\")\n",
        "else:\n",
        "    print(f\"Assertion 2 violated: {missing_highway} records have missing highway numbers, and {invalid_highway} records have invalid highway numbers.\")\n"
      ]
    },
    {
      "cell_type": "code",
      "execution_count": 5,
      "id": "0d50a220",
      "metadata": {
        "colab": {
          "base_uri": "https://localhost:8080/"
        },
        "id": "0d50a220",
        "outputId": "e855b141-cfcd-4a3f-9365-69dcd71f35f5"
      },
      "outputs": [
        {
          "output_type": "stream",
          "name": "stdout",
          "text": [
            "Assertion: Every crash occurred during year 2019.\n"
          ]
        }
      ],
      "source": [
        "# Limit assertions\n",
        "\n",
        "# Check if every crash occurred during year 2019\n",
        "invalid_years = data[data['Crash Year'] != 2019]\n",
        "\n",
        "if len(invalid_years) == 0:\n",
        "    print(\"Assertion: Every crash occurred during year 2019.\")\n",
        "else:\n",
        "    print(\"Assertion violated: Some crashes occurred during years other than 2019.\")\n",
        "    print(\"Invalid records:\")\n",
        "    print(invalid_years[['Crash ID', 'Crash Year']])"
      ]
    },
    {
      "cell_type": "code",
      "execution_count": 6,
      "id": "0d0461a6",
      "metadata": {
        "colab": {
          "base_uri": "https://localhost:8080/"
        },
        "id": "0d0461a6",
        "outputId": "eaa13847-9fdb-4054-9d2c-35c100ce802c"
      },
      "outputs": [
        {
          "output_type": "stream",
          "name": "stdout",
          "text": [
            "Assertion: All the crash record has a crash type,crash severity and collision type.\n",
            "Assertion violated: Some records do not meet the conditions for Crash Severity, Collision Type, and Crash Type.\n",
            "Invalid records:\n",
            "      Crash ID  Crash Severity  Collision Type  Crash Type\n",
            "0      1809119             1.0             1.0         2.0\n",
            "5      1809229             1.0             1.0         2.0\n",
            "9      1809637             1.0             2.0         2.0\n",
            "12     1810874             2.0             3.0         2.0\n",
            "16     1812266             1.0             1.0         2.0\n",
            "...        ...             ...             ...         ...\n",
            "2716   1860371             2.0             3.0         5.0\n",
            "2719   1860417             1.0             1.0         5.0\n",
            "2724   1860427             2.0             3.0         5.0\n",
            "2729   1860453             1.0             1.0         5.0\n",
            "2734   1860771             1.0             1.0         5.0\n",
            "\n",
            "[508 rows x 4 columns]\n"
          ]
        }
      ],
      "source": [
        "# Intra record Assertions\n",
        "\n",
        "# Check if a crash record has a crash type, then it should have crash severity and collision type\n",
        "missing_severity_collision = data[(data['Crash Type'].notnull()) & ((data['Crash Severity'].isnull()) | (data['Collision Type'].isnull()))]\n",
        "\n",
        "if len(missing_severity_collision) == 0:\n",
        "    print(\"Assertion: All the crash record has a crash type,crash severity and collision type.\")\n",
        "else:\n",
        "    print(\"Assertion violated: Some crash records with crash type do not have crash severity or collision type.\")\n",
        "    print(\"Invalid records:\")\n",
        "    print(missing_severity_collision[['Crash ID', 'Crash Type', 'Crash Severity', 'Collision Type']])\n",
        "\n",
        "# Check if it is valid types\n",
        "# Check if Crash Severity is \"2\", \"4\", or \"5\"\n",
        "valid_severity = data['Crash Severity'].isin(['2', '4', '5'])\n",
        "\n",
        "# Check if Collision Type is in the range \"0\" to \"9\", \"-\", and \"&\"\n",
        "valid_collision_type = data['Collision Type'].isin([str(i) for i in range(10)] + ['-', '&'])\n",
        "\n",
        "# Check if Crash Type is in the range \"A\" to \"J\", \"0\" to \"4\", \"6\" to \"9\", and \"&\"\n",
        "valid_crash_type = data['Crash Type'].isin([chr(i) for i in range(65, 74)] + [str(i) for i in range(10)] + ['&']) & (~data['Crash Type'].isin(['5']))\n",
        "\n",
        "# Check if conditions are met for every record\n",
        "invalid_records = data[~(valid_severity & valid_collision_type & valid_crash_type)]\n",
        "\n",
        "if len(invalid_records) == 0:\n",
        "    print(\"Assertion: Conditions for Crash Severity, Collision Type, and Crash Type are met.\")\n",
        "else:\n",
        "    print(\"Assertion violated: Some records do not meet the conditions for Crash Severity, Collision Type, and Crash Type.\")\n",
        "    print(\"Invalid records:\")\n",
        "    print(invalid_records[['Crash ID', 'Crash Severity', 'Collision Type', 'Crash Type']])\n"
      ]
    },
    {
      "cell_type": "code",
      "execution_count": 7,
      "id": "3bc5ac49",
      "metadata": {
        "colab": {
          "base_uri": "https://localhost:8080/"
        },
        "id": "3bc5ac49",
        "outputId": "1c633239-3294-4279-bbbd-0eac0e6039f5"
      },
      "outputs": [
        {
          "output_type": "stream",
          "name": "stdout",
          "text": [
            "Assertion violated: Some records do not meet the conditions for driver age and driver license status.\n",
            "Invalid records:\n",
            "      Participant ID  Age  Driver License Status\n",
            "2          3887884.0  6.0                    NaN\n",
            "4          3887885.0  2.0                    1.0\n",
            "7          3888073.0  2.0                    0.0\n",
            "11         3888766.0  2.0                    1.0\n",
            "14         3890872.0  2.0                    NaN\n",
            "...              ...  ...                    ...\n",
            "2728       3990896.0  9.0                    NaN\n",
            "2731       3990937.0  9.0                    NaN\n",
            "2733       3990938.0  9.0                    NaN\n",
            "2736       3991482.0  9.0                    NaN\n",
            "2738       3991483.0  9.0                    NaN\n",
            "\n",
            "[1174 rows x 3 columns]\n",
            "Assertion violated: Some records do not meet the conditions for Participant's Injury Severity and Age.\n",
            "Invalid records:\n",
            "      Participant ID  Injury Severity  Age\n",
            "2147       3977372.0              7.0  6.0\n",
            "Assertion violated: Some records do not meet the condition for Age format.\n",
            "Invalid records:\n",
            "      Crash ID  Record Type  Participant ID  Age\n",
            "0      1809119            1             NaN  NaN\n",
            "1      1809119            2             NaN  NaN\n",
            "2      1809119            3       3887884.0  6.0\n",
            "3      1809119            2             NaN  NaN\n",
            "4      1809119            3       3887885.0  2.0\n",
            "...        ...          ...             ...  ...\n",
            "2734   1860771            1             NaN  NaN\n",
            "2735   1860771            2             NaN  NaN\n",
            "2736   1860771            3       3991482.0  9.0\n",
            "2737   1860771            2             NaN  NaN\n",
            "2738   1860771            3       3991483.0  9.0\n",
            "\n",
            "[2739 rows x 4 columns]\n"
          ]
        }
      ],
      "source": [
        "#Inter record assertions\n",
        "data = pd.read_csv(file_path)\n",
        "# Check if Driver Age is between 1 and 13\n",
        "age_between_01_13 = (data['Age'] >= 1) & (data['Age'] <= 13)\n",
        "\n",
        "# Check if Driver License Status is \"0\"\n",
        "valid_license_status_01_13 = data.loc[age_between_01_13, 'Driver License Status'] == '0'\n",
        "\n",
        "# Check if conditions are met for every record\n",
        "invalid_records = data[age_between_01_13 & ~valid_license_status_01_13]\n",
        "\n",
        "if len(invalid_records) == 0:\n",
        "    print(\"Assertion: Conditions for driver age between 01 and 13 and driver license status '0' are met.\")\n",
        "else:\n",
        "    print(\"Assertion violated: Some records do not meet the conditions for driver age and driver license status.\")\n",
        "    print(\"Invalid records:\")\n",
        "    print(invalid_records[['Participant ID', 'Age', 'Driver License Status']])\n",
        "\n",
        "\n",
        "# Check if Participant's Injury Severity is 7\n",
        "injury_severity_7 = data['Injury Severity'] == 7\n",
        "\n",
        "# Check if Participant Age is between 1 and 4\n",
        "valid_age_01_04 = (data['Age'] >= 1) & (data['Age'] <= 4)\n",
        "\n",
        "# Check if conditions are met for every record\n",
        "invalid_records = data[injury_severity_7 & ~valid_age_01_04]\n",
        "\n",
        "if len(invalid_records) == 0:\n",
        "    print(\"Assertion: Participant's Injury Severity is 7, the Participant Age is between 01 and 04.\")\n",
        "else:\n",
        "    print(\"Assertion violated: Some records do not meet the conditions for Participant's Injury Severity and Age.\")\n",
        "    print(\"Invalid records:\")\n",
        "    print(invalid_records[['Participant ID', 'Injury Severity', 'Age']])\n",
        "\n",
        "# Check if Age is a two-digit numeric between 00 and 99 inclusive\n",
        "valid_age_format = data['Age'].astype(str).str.match(r'^\\d{2}$')\n",
        "\n",
        "# Check if conditions are met for every record\n",
        "invalid_records = data[~valid_age_format]\n",
        "\n",
        "if len(invalid_records) == 0:\n",
        "    print(\"Assertion: Age is a two-digit numeric between 00 and 99 inclusive.\")\n",
        "else:\n",
        "    print(\"Assertion violated: Some records do not meet the condition for Age format.\")\n",
        "    print(\"Invalid records:\")\n",
        "    print(invalid_records[['Crash ID','Record Type','Participant ID', 'Age']])\n",
        "\n"
      ]
    },
    {
      "cell_type": "code",
      "execution_count": 8,
      "id": "49b2aaf5",
      "metadata": {
        "colab": {
          "base_uri": "https://localhost:8080/"
        },
        "id": "49b2aaf5",
        "outputId": "4b7c23b3-a186-4c96-8ab8-f7e65fc98665"
      },
      "outputs": [
        {
          "output_type": "stream",
          "name": "stdout",
          "text": [
            "508\n",
            "Assertion: Total number of crashes (508) falls within the range of 100 to 1000.\n",
            "Assertion violated: Some records indicate a fatal crash, but no participant was coded with a fatal injury.\n",
            "Invalid records:\n",
            "      Crash ID  Crash Severity  Total Fatality Count\n",
            "12     1810874             2.0                   0.0\n",
            "342    1834858             2.0                   0.0\n",
            "347    1835060             2.0                   0.0\n",
            "350    1835061             2.0                   0.0\n",
            "353    1835182             2.0                   0.0\n",
            "358    1835197             2.0                   0.0\n",
            "402    1835332             2.0                   0.0\n",
            "2285   1853585             2.0                   0.0\n",
            "2470   1854731             2.0                   0.0\n",
            "2475   1854794             2.0                   0.0\n",
            "2495   1854987             2.0                   0.0\n",
            "2500   1854997             2.0                   0.0\n",
            "2509   1855361             2.0                   0.0\n",
            "2519   1855571             2.0                   0.0\n",
            "2529   1855808             2.0                   0.0\n",
            "2534   1855937             2.0                   0.0\n",
            "2549   1856237             2.0                   0.0\n",
            "2574   1857514             2.0                   0.0\n",
            "2582   1858032             2.0                   0.0\n",
            "2587   1858057             2.0                   0.0\n",
            "2592   1858160             2.0                   0.0\n",
            "2602   1858328             2.0                   0.0\n",
            "2645   1859233             2.0                   0.0\n",
            "2650   1859239             2.0                   0.0\n",
            "2655   1859379             2.0                   0.0\n",
            "2685   1859785             2.0                   0.0\n",
            "2688   1860007             2.0                   0.0\n",
            "2693   1860036             2.0                   0.0\n",
            "2701   1860053             2.0                   0.0\n",
            "2716   1860371             2.0                   0.0\n",
            "2724   1860427             2.0                   0.0\n"
          ]
        }
      ],
      "source": [
        "#Summary Assertions\n",
        "# Filter records with Record Type == 1 for every Crash ID\n",
        "data = data[data['Record Type'] == 1]\n",
        "# Calculate the total number of crashes\n",
        "total_crashes = len(data)\n",
        "print(total_crashes)\n",
        "# Define the range (e.g., 1000-5000)\n",
        "range_start = 100\n",
        "range_end = 1000\n",
        "\n",
        "# Check if the total number of crashes falls within the specified range\n",
        "if range_start <= total_crashes <= range_end:\n",
        "    print(f\"Assertion: Total number of crashes ({total_crashes}) falls within the range of {range_start} to {range_end}.\")\n",
        "else:\n",
        "    print(f\"Assertion violated: Total number of crashes ({total_crashes}) does not fall within the range of {range_start} to {range_end}.\")\n",
        "\n",
        "# Filter records where Crash Severity indicates a fatal crash\n",
        "fatal_crashes = data[data['Crash Severity'] == 2]\n",
        "\n",
        "# Check if there are any fatal crashes where no participant was coded with a fatal injury\n",
        "no_fatal_injury = fatal_crashes[fatal_crashes['Total Fatality Count'] == 0]\n",
        "\n",
        "if len(no_fatal_injury) == 0:\n",
        "    print(\"Assertion: For Crash Severity indicating a fatal crash, at least one participant was coded with a fatal injury.\")\n",
        "else:\n",
        "    print(\"Assertion violated: Some records indicate a fatal crash, but no participant was coded with a fatal injury.\")\n",
        "    print(\"Invalid records:\")\n",
        "    print(no_fatal_injury[['Crash ID','Crash Severity','Total Fatality Count']])\n"
      ]
    },
    {
      "cell_type": "code",
      "execution_count": 9,
      "id": "a3c0bb9a",
      "metadata": {
        "colab": {
          "base_uri": "https://localhost:8080/",
          "height": 564
        },
        "id": "a3c0bb9a",
        "outputId": "cbcb5eea-be9f-41bd-e645-951a4bb078dc"
      },
      "outputs": [
        {
          "output_type": "display_data",
          "data": {
            "text/plain": [
              "<Figure size 800x600 with 1 Axes>"
            ],
            "image/png": "[encoded data removed]"
          },
          "metadata": {}
        }
      ],
      "source": [
        "import matplotlib.pyplot as plt\n",
        "data = pd.read_csv(file_path)\n",
        "data = data[data['Record Type'] == 1]\n",
        "# Count the frequency of each severity level\n",
        "severity_counts = data['Crash Severity'].value_counts()\n",
        "\n",
        "# Plotting\n",
        "plt.figure(figsize=(8, 6))\n",
        "severity_counts.plot(kind='bar', color='skyblue')\n",
        "plt.title('Distribution of Crashes Across Severity Levels')\n",
        "plt.xlabel('Severity Level')\n",
        "plt.ylabel('Frequency')\n",
        "plt.xticks(rotation=0)\n",
        "plt.show()\n"
      ]
    },
    {
      "cell_type": "code",
      "execution_count": 10,
      "id": "8d24324e",
      "metadata": {
        "colab": {
          "base_uri": "https://localhost:8080/",
          "height": 564
        },
        "id": "8d24324e",
        "outputId": "66cc797e-e9da-4f0a-fbf2-ec6e6572acad"
      },
      "outputs": [
        {
          "output_type": "display_data",
          "data": {
            "text/plain": [
              "<Figure size 1000x600 with 1 Axes>"
            ],
            "image/png": "[encoded data removed]"
          },
          "metadata": {}
        }
      ],
      "source": [
        "import matplotlib.pyplot as plt\n",
        "\n",
        "data = pd.read_csv(file_path)\n",
        "data = data[data['Record Type'] == 1]\n",
        "\n",
        "# Calculate average number of crashes per month\n",
        "average_crashes_per_month = data.groupby('Crash Month')['Crash ID'].count().mean()\n",
        "\n",
        "# Plotting\n",
        "plt.figure(figsize=(10, 6))\n",
        "plt.bar(data['Crash Month'].unique(), data.groupby('Crash Month')['Crash ID'].count(), color='skyblue')\n",
        "plt.axhline(y=average_crashes_per_month, color='red', linestyle='--', label='Average')\n",
        "plt.title('Distribution of Crashes Across Months')\n",
        "plt.xlabel('Month')\n",
        "plt.ylabel('Number of Crashes')\n",
        "plt.xticks(data['Crash Month'].unique())\n",
        "plt.legend()\n",
        "plt.show()"
      ]
    },
    {
      "cell_type": "code",
      "execution_count": 11,
      "id": "ea03f9c6",
      "metadata": {
        "colab": {
          "base_uri": "https://localhost:8080/",
          "height": 564
        },
        "id": "ea03f9c6",
        "outputId": "ee31c826-9179-48e1-b95b-4449ce61e532"
      },
      "outputs": [
        {
          "output_type": "display_data",
          "data": {
            "text/plain": [
              "<Figure size 1000x600 with 1 Axes>"
            ],
            "image/png": "[encoded data removed]"
          },
          "metadata": {}
        }
      ],
      "source": [
        "#statistical distribution assertions\n",
        "\n",
        "import matplotlib.pyplot as plt\n",
        "data = pd.read_csv(file_path)\n",
        "\n",
        "# Convert Age to numeric type\n",
        "data['Age'] = pd.to_numeric(data['Age'], errors='coerce')\n",
        "\n",
        "# Drop rows with missing values in Age or Injury Severity\n",
        "data.dropna(subset=['Age', 'Injury Severity'], inplace=True)\n",
        "\n",
        "# Plotting\n",
        "plt.figure(figsize=(10, 6))\n",
        "plt.scatter(data['Age'], data['Injury Severity'].astype(int), alpha=0.5)\n",
        "plt.title('Correlation between Participant Age and Injury Severity')\n",
        "plt.xlabel('Age')\n",
        "plt.ylabel('Injury Severity')\n",
        "plt.show()"
      ]
    },
    {
      "cell_type": "code",
      "execution_count": 11,
      "id": "6af1c651",
      "metadata": {
        "id": "6af1c651"
      },
      "outputs": [],
      "source": []
    }
  ],
  "metadata": {
    "kernelspec": {
      "display_name": "Python 3 (ipykernel)",
      "language": "python",
      "name": "python3"
    },
    "language_info": {
      "codemirror_mode": {
        "name": "ipython",
        "version": 3
      },
      "file_extension": ".py",
      "mimetype": "text/x-python",
      "name": "python",
      "nbconvert_exporter": "python",
      "pygments_lexer": "ipython3",
      "version": "3.11.5"
    },
    "colab": {
      "provenance": []
    }
  },
  "nbformat": 4,
  "nbformat_minor": 5
}